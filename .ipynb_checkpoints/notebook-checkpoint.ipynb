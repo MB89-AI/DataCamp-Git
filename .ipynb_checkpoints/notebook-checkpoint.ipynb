{
 "cells": [
  {
   "cell_type": "markdown",
   "id": "f1b3a1d4",
   "metadata": {
    "cell_id": "b954efc1-2022-46bb-9d27-a9a30aa7761b",
    "deepnote_cell_type": "text-cell-h1",
    "is_collapsed": false,
    "tags": []
   },
   "source": [
    "# Tutorial For Recurrent Neural Network (RNN)"
   ]
  },
  {
   "cell_type": "markdown",
   "id": "268d670c",
   "metadata": {
    "cell_id": "1b0cbba3-c449-46ce-8129-0fa04728c10b",
    "deepnote_cell_type": "markdown",
    "deepnote_to_be_reexecuted": false,
    "execution_millis": 27,
    "execution_start": 1646042657808,
    "source_hash": "236b5c2a",
    "tags": []
   },
   "source": [
    "![RNN](RNN.png)\n",
    "Image by author"
   ]
  },
  {
   "cell_type": "markdown",
   "id": "51777dc3",
   "metadata": {
    "cell_id": "3e7a4e31-eb11-49c4-bf8a-ca00650a035e",
    "deepnote_cell_type": "markdown",
    "tags": []
   },
   "source": [
    "A recurrent neural network (RNN) is the type of artificial neural network (ANN) that is used in Apple’s Siri and Google’s voice search. RNN remembers past inputs due to an internal memory which is useful for predicting stock prices, generating sentences, transcriptions, and machine translation."
   ]
  },
  {
   "cell_type": "code",
   "execution_count": 1,
   "id": "647954b3",
   "metadata": {
    "cell_id": "42732cca-c44e-4703-8317-9953a991a161",
    "deepnote_cell_type": "code",
    "deepnote_to_be_reexecuted": false,
    "execution_millis": 1,
    "execution_start": 1646043133415,
    "source_hash": "3d096da7",
    "tags": []
   },
   "outputs": [],
   "source": [
    "# !pip install kaggle\n",
    "# !kaggle datasets download -d kalilurrahman/mastercard-stock-data-latest-and-updated\n",
    "# !unzip mastercard-stock-data-latest-and-updated -d ./data"
   ]
  },
  {
   "cell_type": "markdown",
   "id": "24c62af5",
   "metadata": {
    "cell_id": "ef791f7f-eefe-4268-9a41-2311f2bbdb50",
    "deepnote_cell_type": "markdown",
    "tags": []
   },
   "source": [
    "The code is inspired from Siddgarth Yadav [Intro to RNN](https://www.kaggle.com/thebrownviking20/intro-to-recurrent-neural-networks-lstm-gru)"
   ]
  },
  {
   "cell_type": "markdown",
   "id": "a73a8278",
   "metadata": {
    "cell_id": "d7c5978d-bf33-418b-af16-ae71f8bdbf71",
    "deepnote_cell_type": "markdown",
    "tags": []
   },
   "source": [
    "In this project, we are going to use Kaggle’s [MasterCard Stock Data](https://www.kaggle.com/kalilurrahman/mastercard-stock-data-latest-and-updated?select=Mastercard_stock_history.csv) from May-25-2006 to Oct-11-2021 and train the LSTM and GRU model to forecast the stock price. "
   ]
  },
  {
   "cell_type": "code",
   "execution_count": 2,
   "id": "4cb50f87",
   "metadata": {
    "_uuid": "da0236e4b36ce514c1fec3fd72f236d1fa259131",
    "cell_id": "00008-ed48002c-9ac1-4f34-89f7-13fc8b85a344",
    "deepnote_cell_type": "code",
    "deepnote_to_be_reexecuted": false,
    "execution_millis": 7776,
    "execution_start": 1646043133417,
    "source_hash": "c05d4950"
   },
   "outputs": [
    {
     "name": "stderr",
     "output_type": "stream",
     "text": [
      "2022-04-05 07:48:50.355423: W tensorflow/stream_executor/platform/default/dso_loader.cc:60] Could not load dynamic library 'libcudart.so.11.0'; dlerror: libcudart.so.11.0: cannot open shared object file: No such file or directory\n",
      "2022-04-05 07:48:50.355460: I tensorflow/stream_executor/cuda/cudart_stub.cc:29] Ignore above cudart dlerror if you do not have a GPU set up on your machine.\n"
     ]
    }
   ],
   "source": [
    "# Importing the libraries\n",
    "import numpy as np\n",
    "import pandas as pd\n",
    "import matplotlib.pyplot as plt\n",
    "import seaborn as sns\n",
    "\n",
    "from sklearn.preprocessing import MinMaxScaler\n",
    "from sklearn.metrics import mean_squared_error\n",
    "\n",
    "from tensorflow.keras.models import Sequential\n",
    "from tensorflow.keras.layers import Dense, LSTM, Dropout, GRU, Bidirectional\n",
    "from tensorflow.keras.optimizers import SGD\n",
    "from tensorflow.random import set_seed\n",
    "\n",
    "set_seed(455)\n",
    "np.random.seed(455)"
   ]
  },
  {
   "cell_type": "markdown",
   "id": "b74338a2",
   "metadata": {
    "cell_id": "a5debb25-690f-49b6-af3f-312ca9c46a0d",
    "deepnote_cell_type": "text-cell-h2",
    "is_collapsed": false,
    "tags": []
   },
   "source": [
    "## Data Analysis"
   ]
  },
  {
   "cell_type": "markdown",
   "id": "7c7c108a",
   "metadata": {
    "cell_id": "6a240f6e-59ad-4f61-8567-0236d21f5ab3",
    "deepnote_cell_type": "markdown",
    "tags": []
   },
   "source": [
    "Converting the `Date` column to DateTime format and adding it to index. Dropping irrelevant columns to make the final dataset cleaner.  "
   ]
  },
  {
   "cell_type": "code",
   "execution_count": 3,
   "id": "d1badb87",
   "metadata": {
    "_uuid": "4cf10cf27420eb383b93b15c0895139ea96c0ed3",
    "cell_id": "00010-623ed6c6-5fdf-4b98-8711-185293d0e1dd",
    "deepnote_cell_type": "code",
    "deepnote_to_be_reexecuted": true,
    "execution_millis": 30,
    "execution_start": 1645976476143,
    "source_hash": "e8daaea9"
   },
   "outputs": [
    {
     "name": "stdout",
     "output_type": "stream",
     "text": [
      "                Open      High       Low     Close     Volume\n",
      "Date                                                         \n",
      "2006-05-25  3.748967  4.283869  3.739664  4.279217  395343000\n",
      "2006-05-26  4.307126  4.348058  4.103398  4.179680  103044000\n",
      "2006-05-30  4.183400  4.184330  3.986184  4.093164   49898000\n",
      "2006-05-31  4.125723  4.219679  4.125723  4.180608   30002000\n",
      "2006-06-01  4.179678  4.474572  4.176887  4.419686   62344000\n"
     ]
    }
   ],
   "source": [
    "# First, we get the data\n",
    "dataset = pd.read_csv(\n",
    "    \"data/Mastercard_stock_history.csv\", index_col=\"Date\", parse_dates=[\"Date\"]\n",
    ").drop([\"Dividends\", \"Stock Splits\"], axis=1)\n",
    "print(dataset.head())\n"
   ]
  },
  {
   "cell_type": "code",
   "execution_count": 4,
   "id": "a92be9d0",
   "metadata": {
    "cell_id": "c890e499-584c-496f-aa54-75966790e461",
    "deepnote_cell_type": "code",
    "deepnote_to_be_reexecuted": true,
    "execution_millis": 68,
    "execution_start": 1645976476178,
    "source_hash": "506f4172",
    "tags": []
   },
   "outputs": [
    {
     "name": "stdout",
     "output_type": "stream",
     "text": [
      "              Open         High          Low        Close        Volume\n",
      "count  3872.000000  3872.000000  3872.000000  3872.000000  3.872000e+03\n",
      "mean    104.896814   105.956054   103.769349   104.882714  1.232250e+07\n",
      "std     106.245511   107.303589   105.050064   106.168693  1.759665e+07\n",
      "min       3.748967     4.102467     3.739664     4.083861  6.411000e+05\n",
      "25%      22.347203    22.637997    22.034458    22.300391  3.529475e+06\n",
      "50%      70.810079    71.375896    70.224002    70.856083  5.891750e+06\n",
      "75%     147.688448   148.645373   146.822013   147.688438  1.319775e+07\n",
      "max     392.653890   400.521479   389.747812   394.685730  3.953430e+08\n"
     ]
    }
   ],
   "source": [
    "print(dataset.describe())"
   ]
  },
  {
   "cell_type": "markdown",
   "id": "1abd7492",
   "metadata": {
    "cell_id": "a689a6a6-5548-4241-a249-04da7bdccdd0",
    "deepnote_cell_type": "markdown",
    "tags": []
   },
   "source": [
    "No missing values, the dataset is clean."
   ]
  },
  {
   "cell_type": "code",
   "execution_count": 5,
   "id": "872d1c63",
   "metadata": {
    "cell_id": "38d8177a-e779-4f49-b64b-3db03ddc3438",
    "deepnote_cell_type": "code",
    "deepnote_to_be_reexecuted": true,
    "execution_millis": 2,
    "execution_start": 1645976476245,
    "source_hash": "bc9a0baa",
    "tags": []
   },
   "outputs": [
    {
     "data": {
      "text/plain": [
       "Open      0\n",
       "High      0\n",
       "Low       0\n",
       "Close     0\n",
       "Volume    0\n",
       "dtype: int64"
      ]
     },
     "execution_count": 5,
     "metadata": {},
     "output_type": "execute_result"
    }
   ],
   "source": [
    "dataset.isna().sum()"
   ]
  },
  {
   "cell_type": "markdown",
   "id": "6b2504f6",
   "metadata": {
    "cell_id": "644bc5f1-a286-429b-b1c0-6edc9d8164b5",
    "deepnote_cell_type": "markdown",
    "tags": []
   },
   "source": [
    "MasterCard card stock prices have been on the high rise since 2016. It had a dip in the first quarter of 2020 but it gained a stable position in the latter half of the year."
   ]
  },
  {
   "cell_type": "code",
   "execution_count": 6,
   "id": "694138cf",
   "metadata": {
    "cell_id": "1f624870-d9fb-46a5-9c6f-9dc67cb7b41e",
    "deepnote_cell_type": "code",
    "deepnote_to_be_reexecuted": true,
    "execution_millis": 352,
    "execution_start": 1645976476246,
    "source_hash": "52d7725b",
    "tags": []
   },
   "outputs": [
    {
     "data": {
      "image/png": "[encoded data removed]",
      "text/plain": [
       "<Figure size 1152x288 with 1 Axes>"
      ]
     },
     "metadata": {
      "needs_background": "light"
     },
     "output_type": "display_data"
    }
   ],
   "source": [
    "tstart = 2016\n",
    "tend = 2020\n",
    "\n",
    "def train_test_plot(dataset, tstart, tend):\n",
    "    dataset.loc[f\"{tstart}\":f\"{tend}\", \"High\"].plot(figsize=(16, 4), legend=True)\n",
    "    dataset.loc[f\"{tend+1}\":, \"High\"].plot(figsize=(16, 4), legend=True)\n",
    "    plt.legend([f\"Train (Before {tend+1})\", f\"Test ({tend+1} and beyond)\"])\n",
    "    plt.title(\"MasterCard stock price\")\n",
    "    plt.show()\n",
    "\n",
    "train_test_plot(dataset,tstart,tend)"
   ]
  },
  {
   "cell_type": "markdown",
   "id": "b8c3921b",
   "metadata": {
    "cell_id": "b0692b33-c8f0-4a55-bdda-d5fdeb0ee2bd",
    "deepnote_cell_type": "text-cell-h2",
    "is_collapsed": false,
    "tags": []
   },
   "source": [
    "## Data Preprocessing"
   ]
  },
  {
   "cell_type": "markdown",
   "id": "ceacfbcd",
   "metadata": {
    "cell_id": "e8eb2bc8-4341-44d9-bedf-b421a23fb854",
    "deepnote_cell_type": "markdown",
    "tags": []
   },
   "source": [
    "Simple train test split function"
   ]
  },
  {
   "cell_type": "code",
   "execution_count": 7,
   "id": "767137fa",
   "metadata": {
    "cell_id": "875f3ddc-bd51-4a78-ab87-03cbf6f82057",
    "deepnote_cell_type": "code",
    "deepnote_to_be_reexecuted": true,
    "execution_millis": 1,
    "execution_start": 1645976476629,
    "source_hash": "d9317b88",
    "tags": []
   },
   "outputs": [],
   "source": [
    "def train_test_split(dataset, tstart, tend):\n",
    "    train = dataset.loc[f\"{tstart}\":f\"{tend}\", \"High\"].values\n",
    "    test = dataset.loc[f\"{tend+1}\":, \"High\"].values\n",
    "    return train, test\n",
    "\n",
    "training_set, test_set = train_test_split(dataset, tstart, tend)"
   ]
  },
  {
   "cell_type": "markdown",
   "id": "969942af",
   "metadata": {
    "cell_id": "65bfbfde-80ad-4af5-9406-c00b07dc9b63",
    "deepnote_cell_type": "markdown",
    "tags": []
   },
   "source": [
    "Normalizing the data using MinMaxScaler"
   ]
  },
  {
   "cell_type": "code",
   "execution_count": 8,
   "id": "bdf47a8f",
   "metadata": {
    "_uuid": "bcc9c36165fc07d258bd5ea87874d2da17fa4a4d",
    "cell_id": "00013-7d7d0db9-187d-4837-93a8-89ce21ecd9aa",
    "deepnote_cell_type": "code",
    "deepnote_to_be_reexecuted": true,
    "execution_millis": 1,
    "execution_start": 1645976476630,
    "source_hash": "3e977e17"
   },
   "outputs": [],
   "source": [
    "# Scaling the training set\n",
    "sc = MinMaxScaler(feature_range=(0, 1))\n",
    "training_set = training_set.reshape(-1, 1)\n",
    "training_set_scaled = sc.fit_transform(training_set)"
   ]
  },
  {
   "cell_type": "markdown",
   "id": "335441b3",
   "metadata": {
    "cell_id": "a7330b33-db05-4d6e-b9fc-7309efda9f2e",
    "deepnote_cell_type": "markdown",
    "tags": []
   },
   "source": [
    "Spliting a univariate sequence into samples"
   ]
  },
  {
   "cell_type": "code",
   "execution_count": 9,
   "id": "f1690e5f",
   "metadata": {
    "cell_id": "24397a35-1b35-4637-ab03-a94780a1e060",
    "deepnote_cell_type": "code",
    "deepnote_to_be_reexecuted": true,
    "execution_millis": 1,
    "execution_start": 1645976476631,
    "source_hash": "5cd00a40",
    "tags": []
   },
   "outputs": [],
   "source": [
    "def split_sequence(sequence, n_steps):\n",
    "    X, y = list(), list()\n",
    "    for i in range(len(sequence)):\n",
    "        end_ix = i + n_steps\n",
    "        if end_ix > len(sequence) - 1:\n",
    "            break\n",
    "        seq_x, seq_y = sequence[i:end_ix], sequence[end_ix]\n",
    "        X.append(seq_x)\n",
    "        y.append(seq_y)\n",
    "    return np.array(X), np.array(y)\n",
    "\n",
    "\n",
    "n_steps = 60\n",
    "features = 1\n",
    "# split into samples\n",
    "X_train, y_train = split_sequence(training_set_scaled, n_steps)"
   ]
  },
  {
   "cell_type": "markdown",
   "id": "60f2e90a",
   "metadata": {
    "cell_id": "d9cdd7f9-38c0-4ed0-89fa-1ac64ee41ec5",
    "deepnote_cell_type": "markdown",
    "tags": []
   },
   "source": [
    "Reshaping X_train for efficient modelling"
   ]
  },
  {
   "cell_type": "code",
   "execution_count": 10,
   "id": "be44f9f8",
   "metadata": {
    "_uuid": "637f699d3c4bde4b783de56ed4dd70a1bf59760d",
    "cell_id": "00015-cd7efe2b-9718-453a-88ed-5e25fae13424",
    "deepnote_cell_type": "code",
    "deepnote_to_be_reexecuted": true,
    "execution_millis": 0,
    "execution_start": 1645976476635,
    "source_hash": "e9d13436"
   },
   "outputs": [],
   "source": [
    "X_train = X_train.reshape(X_train.shape[0],X_train.shape[1],features)"
   ]
  },
  {
   "cell_type": "markdown",
   "id": "1f365556",
   "metadata": {
    "cell_id": "ef6b14c2-b527-45e9-9a0c-fd5323824b6a",
    "deepnote_cell_type": "text-cell-h2",
    "is_collapsed": false,
    "tags": []
   },
   "source": [
    "## LSTM Model"
   ]
  },
  {
   "cell_type": "markdown",
   "id": "6b743965",
   "metadata": {
    "cell_id": "0ec7ea63-3a94-42da-b280-f558536e4737",
    "deepnote_cell_type": "markdown",
    "tags": []
   },
   "source": [
    "A simple LSTM model with a single hidden layer of LSTM and an output layer."
   ]
  },
  {
   "cell_type": "code",
   "execution_count": 11,
   "id": "3f198b3d",
   "metadata": {
    "_uuid": "df20eb7e8062dae0a3aff2182aa440faddd0017d",
    "cell_id": "00016-940fa9e1-0b9d-48fd-b805-b637488646ec",
    "deepnote_cell_type": "code",
    "deepnote_to_be_reexecuted": true,
    "execution_millis": 323,
    "execution_start": 1645976476637,
    "source_hash": "ba8a411a"
   },
   "outputs": [
    {
     "name": "stderr",
     "output_type": "stream",
     "text": [
      "2022-04-05 07:48:51.855231: I tensorflow/compiler/jit/xla_cpu_device.cc:41] Not creating XLA devices, tf_xla_enable_xla_devices not set\n",
      "2022-04-05 07:48:51.855473: W tensorflow/stream_executor/platform/default/dso_loader.cc:60] Could not load dynamic library 'libcuda.so.1'; dlerror: libcuda.so.1: cannot open shared object file: No such file or directory\n",
      "2022-04-05 07:48:51.855490: W tensorflow/stream_executor/cuda/cuda_driver.cc:326] failed call to cuInit: UNKNOWN ERROR (303)\n",
      "2022-04-05 07:48:51.855514: I tensorflow/stream_executor/cuda/cuda_diagnostics.cc:156] kernel driver does not appear to be running on this host (12b7d2eb-1d53-4e2d-8aaf-41305dc2a1b9): /proc/driver/nvidia/version does not exist\n",
      "2022-04-05 07:48:51.855705: I tensorflow/core/platform/cpu_feature_guard.cc:142] This TensorFlow binary is optimized with oneAPI Deep Neural Network Library (oneDNN) to use the following CPU instructions in performance-critical operations:  AVX2 AVX512F FMA\n",
      "To enable them in other operations, rebuild TensorFlow with the appropriate compiler flags.\n",
      "2022-04-05 07:48:51.856659: I tensorflow/compiler/jit/xla_gpu_device.cc:99] Not creating XLA devices, tf_xla_enable_xla_devices not set\n"
     ]
    },
    {
     "name": "stdout",
     "output_type": "stream",
     "text": [
      "Model: \"sequential\"\n",
      "_________________________________________________________________\n",
      "Layer (type)                 Output Shape              Param #   \n",
      "=================================================================\n",
      "lstm (LSTM)                  (None, 125)               63500     \n",
      "_________________________________________________________________\n",
      "dense (Dense)                (None, 1)                 126       \n",
      "=================================================================\n",
      "Total params: 63,626\n",
      "Trainable params: 63,626\n",
      "Non-trainable params: 0\n",
      "_________________________________________________________________\n"
     ]
    }
   ],
   "source": [
    "model_lstm = Sequential()\n",
    "model_lstm.add(LSTM(units=125, activation=\"tanh\", input_shape=(n_steps, features)))\n",
    "model_lstm.add(Dense(units=1))\n",
    "\n",
    "# Compiling the model\n",
    "model_lstm.compile(optimizer=\"RMSprop\", loss=\"mse\")\n",
    "\n",
    "model_lstm.summary()"
   ]
  },
  {
   "cell_type": "markdown",
   "id": "f0937d8d",
   "metadata": {
    "cell_id": "4f550d76-2840-4c1d-8460-345d87f72a25",
    "deepnote_cell_type": "markdown",
    "tags": []
   },
   "source": [
    "Training with 50 epochs and 32 batch size."
   ]
  },
  {
   "cell_type": "code",
   "execution_count": 12,
   "id": "12fa4c12",
   "metadata": {
    "cell_id": "f0aeff3e-ac5a-452a-bbae-6b5e5d51b72e",
    "deepnote_cell_type": "code",
    "deepnote_to_be_reexecuted": true,
    "execution_millis": 82302,
    "execution_start": 1645976476964,
    "source_hash": "74e035b5",
    "tags": []
   },
   "outputs": [
    {
     "name": "stdout",
     "output_type": "stream",
     "text": [
      "Epoch 1/50\n"
     ]
    },
    {
     "name": "stderr",
     "output_type": "stream",
     "text": [
      "2022-04-05 07:48:52.088369: I tensorflow/compiler/mlir/mlir_graph_optimization_pass.cc:116] None of the MLIR optimization passes are enabled (registered 2)\n",
      "2022-04-05 07:48:52.088826: I tensorflow/core/platform/profile_utils/cpu_utils.cc:112] CPU Frequency: 2499995000 Hz\n"
     ]
    },
    {
     "name": "stdout",
     "output_type": "stream",
     "text": [
      "38/38 [==============================] - 4s 73ms/step - loss: 0.0417\n",
      "Epoch 2/50\n",
      "38/38 [==============================] - 3s 71ms/step - loss: 0.0036\n",
      "Epoch 3/50\n",
      "38/38 [==============================] - 3s 71ms/step - loss: 0.0025\n",
      "Epoch 4/50\n",
      "38/38 [==============================] - 3s 70ms/step - loss: 0.0020\n",
      "Epoch 5/50\n",
      "38/38 [==============================] - 3s 70ms/step - loss: 0.0014\n",
      "Epoch 6/50\n",
      "38/38 [==============================] - 3s 68ms/step - loss: 0.0012\n",
      "Epoch 7/50\n",
      "38/38 [==============================] - 3s 68ms/step - loss: 9.2171e-04\n",
      "Epoch 8/50\n",
      "38/38 [==============================] - 3s 69ms/step - loss: 0.0014\n",
      "Epoch 9/50\n",
      "38/38 [==============================] - 3s 69ms/step - loss: 0.0011\n",
      "Epoch 10/50\n",
      "38/38 [==============================] - 3s 69ms/step - loss: 0.0015\n",
      "Epoch 11/50\n",
      "38/38 [==============================] - 3s 70ms/step - loss: 8.9516e-04\n",
      "Epoch 12/50\n",
      "38/38 [==============================] - 3s 68ms/step - loss: 8.8822e-04\n",
      "Epoch 13/50\n",
      "38/38 [==============================] - 3s 67ms/step - loss: 8.8349e-04\n",
      "Epoch 14/50\n",
      "38/38 [==============================] - 3s 68ms/step - loss: 6.2628e-04\n",
      "Epoch 15/50\n",
      "38/38 [==============================] - 3s 68ms/step - loss: 6.9371e-04\n",
      "Epoch 16/50\n",
      "38/38 [==============================] - 3s 69ms/step - loss: 7.2575e-04\n",
      "Epoch 17/50\n",
      "38/38 [==============================] - 3s 70ms/step - loss: 7.5349e-04\n",
      "Epoch 18/50\n",
      "38/38 [==============================] - 3s 69ms/step - loss: 6.5068e-04\n",
      "Epoch 19/50\n",
      "38/38 [==============================] - 3s 70ms/step - loss: 6.6712e-04\n",
      "Epoch 20/50\n",
      "38/38 [==============================] - 3s 66ms/step - loss: 6.5184e-04\n",
      "Epoch 21/50\n",
      "38/38 [==============================] - 3s 66ms/step - loss: 8.4075e-04\n",
      "Epoch 22/50\n",
      "38/38 [==============================] - 3s 65ms/step - loss: 5.7652e-04\n",
      "Epoch 23/50\n",
      "38/38 [==============================] - 3s 66ms/step - loss: 4.7700e-04\n",
      "Epoch 24/50\n",
      "38/38 [==============================] - 3s 67ms/step - loss: 6.0640e-04\n",
      "Epoch 25/50\n",
      "38/38 [==============================] - 3s 66ms/step - loss: 6.5676e-04\n",
      "Epoch 26/50\n",
      "38/38 [==============================] - 3s 66ms/step - loss: 4.7348e-04\n",
      "Epoch 27/50\n",
      "38/38 [==============================] - 3s 68ms/step - loss: 6.0236e-04\n",
      "Epoch 28/50\n",
      "38/38 [==============================] - 3s 67ms/step - loss: 6.1910e-04\n",
      "Epoch 29/50\n",
      "38/38 [==============================] - 3s 67ms/step - loss: 4.8511e-04\n",
      "Epoch 30/50\n",
      "38/38 [==============================] - 3s 66ms/step - loss: 6.0520e-04\n",
      "Epoch 31/50\n",
      "38/38 [==============================] - 3s 67ms/step - loss: 4.6746e-04\n",
      "Epoch 32/50\n",
      "38/38 [==============================] - 2s 66ms/step - loss: 4.8545e-04\n",
      "Epoch 33/50\n",
      "38/38 [==============================] - 3s 67ms/step - loss: 5.3285e-04\n",
      "Epoch 34/50\n",
      "38/38 [==============================] - 3s 67ms/step - loss: 4.2935e-04\n",
      "Epoch 35/50\n",
      "38/38 [==============================] - 3s 68ms/step - loss: 4.0013e-04\n",
      "Epoch 36/50\n",
      "38/38 [==============================] - 2s 66ms/step - loss: 5.0319e-04\n",
      "Epoch 37/50\n",
      "38/38 [==============================] - 3s 68ms/step - loss: 4.2720e-04\n",
      "Epoch 38/50\n",
      "38/38 [==============================] - 2s 67ms/step - loss: 4.9838e-04\n",
      "Epoch 39/50\n",
      "38/38 [==============================] - 3s 67ms/step - loss: 4.4029e-04\n",
      "Epoch 40/50\n",
      "38/38 [==============================] - 3s 67ms/step - loss: 3.6425e-04\n",
      "Epoch 41/50\n",
      "38/38 [==============================] - 3s 66ms/step - loss: 4.4100e-04\n",
      "Epoch 42/50\n",
      "38/38 [==============================] - 3s 68ms/step - loss: 3.8730e-04\n",
      "Epoch 43/50\n",
      "38/38 [==============================] - 3s 67ms/step - loss: 4.2768e-04\n",
      "Epoch 44/50\n",
      "38/38 [==============================] - 3s 67ms/step - loss: 2.4801e-04\n",
      "Epoch 45/50\n",
      "38/38 [==============================] - 3s 67ms/step - loss: 4.6014e-04\n",
      "Epoch 46/50\n",
      "38/38 [==============================] - 3s 66ms/step - loss: 3.4246e-04\n",
      "Epoch 47/50\n",
      "38/38 [==============================] - 3s 66ms/step - loss: 4.8949e-04\n",
      "Epoch 48/50\n",
      "38/38 [==============================] - 2s 65ms/step - loss: 2.8320e-04\n",
      "Epoch 49/50\n",
      "38/38 [==============================] - 2s 66ms/step - loss: 4.3686e-04\n",
      "Epoch 50/50\n",
      "38/38 [==============================] - 2s 65ms/step - loss: 3.1475e-04\n"
     ]
    },
    {
     "data": {
      "text/plain": [
       "<tensorflow.python.keras.callbacks.History at 0x7ff3141a8100>"
      ]
     },
     "execution_count": 12,
     "metadata": {},
     "output_type": "execute_result"
    }
   ],
   "source": [
    "# Fitting to the training set\n",
    "model_lstm.fit(X_train, y_train, epochs=50, batch_size=32)"
   ]
  },
  {
   "cell_type": "markdown",
   "id": "9c655c87",
   "metadata": {
    "cell_id": "81b35fc6-26ad-45f3-be48-ff3c85dc559e",
    "deepnote_cell_type": "text-cell-h2",
    "is_collapsed": false,
    "tags": []
   },
   "source": [
    "## Results"
   ]
  },
  {
   "cell_type": "markdown",
   "id": "bd587438",
   "metadata": {
    "cell_id": "4ced502b-4aeb-4dbf-a91d-130f300b47b1",
    "deepnote_cell_type": "markdown",
    "tags": []
   },
   "source": [
    "First, transform, then split the dataset into samples, reshape it, predict, and inverse transform the predictions into standard form. "
   ]
  },
  {
   "cell_type": "code",
   "execution_count": 13,
   "id": "61215212",
   "metadata": {
    "_uuid": "326fa85615622feb484cc4c848edeec6f7133913",
    "cell_id": "00017-b05c090a-6814-4346-87ec-5f9e3650e61e",
    "deepnote_cell_type": "code",
    "deepnote_to_be_reexecuted": true,
    "execution_millis": 1,
    "execution_start": 1645976558916,
    "source_hash": "7a20dd04"
   },
   "outputs": [],
   "source": [
    "dataset_total = dataset.loc[:,\"High\"]\n",
    "inputs = dataset_total[len(dataset_total) - len(test_set) - n_steps :].values\n",
    "inputs = inputs.reshape(-1, 1)\n",
    "inputs = sc.transform(inputs)"
   ]
  },
  {
   "cell_type": "code",
   "execution_count": 14,
   "id": "65cd6a90",
   "metadata": {
    "_uuid": "435b8024814939ac4fbd372baa0cd8cfc78f80bc",
    "cell_id": "00018-1d3c05c3-293c-41c1-a9c0-0525169da698",
    "deepnote_cell_type": "code",
    "deepnote_to_be_reexecuted": true,
    "execution_millis": 529,
    "execution_start": 1645976558917,
    "source_hash": "6a89a7b6"
   },
   "outputs": [],
   "source": [
    "# Preparing X_test and predicting the prices\n",
    "X_test, y_test = split_sequence(inputs, n_steps)\n",
    "X_test = X_test.reshape(X_test.shape[0], X_test.shape[1], features)\n",
    "predicted_stock_price = model_lstm.predict(X_test)\n",
    "predicted_stock_price = sc.inverse_transform(predicted_stock_price)\n",
    "y_test = sc.inverse_transform(y_test)"
   ]
  },
  {
   "cell_type": "markdown",
   "id": "62c8b993",
   "metadata": {
    "cell_id": "61622676-9cb7-4e52-9cee-8408a61fd82a",
    "deepnote_cell_type": "markdown",
    "tags": []
   },
   "source": [
    "- `plot_predictions` function will plot a real versus predicted line chart\n",
    "- `return_rmse` prints out the root mean square error (rmse) metric.\n"
   ]
  },
  {
   "cell_type": "code",
   "execution_count": 15,
   "id": "b3e6dde9",
   "metadata": {
    "cell_id": "13dedf24-bcb5-4bee-8db7-fbd539e82b8b",
    "deepnote_cell_type": "code",
    "deepnote_to_be_reexecuted": true,
    "execution_millis": 0,
    "execution_start": 1645976559449,
    "source_hash": "d74bcbf",
    "tags": []
   },
   "outputs": [],
   "source": [
    "def plot_predictions(test, predicted):\n",
    "    plt.plot(test, color=\"gray\", label=\"Real\")\n",
    "    plt.plot(predicted, color=\"red\", label=\"Predicted\")\n",
    "    plt.title(\"MasterCard Stock Price Prediction\")\n",
    "    plt.xlabel(\"Time\")\n",
    "    plt.ylabel(\"MasterCard Stock Price\")\n",
    "    plt.legend()\n",
    "    plt.show()\n",
    "\n",
    "\n",
    "def return_rmse(test, predicted):\n",
    "    rmse = np.sqrt(mean_squared_error(test, predicted))\n",
    "    print(\"The root mean squared error is {:.2f}.\".format(rmse))\n"
   ]
  },
  {
   "cell_type": "markdown",
   "id": "e77f8ab9",
   "metadata": {
    "cell_id": "cea17be8-54e3-4cc2-8cba-c9b12ccded45",
    "deepnote_cell_type": "markdown",
    "tags": []
   },
   "source": [
    "Visualizing the results for LSTM"
   ]
  },
  {
   "cell_type": "code",
   "execution_count": 16,
   "id": "bf399b5d",
   "metadata": {
    "_uuid": "b774a8e79e53eac89694cafef6b11aa99226b95f",
    "cell_id": "00019-519fb7e5-ac53-46e4-854c-7df1232bc143",
    "deepnote_cell_type": "code",
    "deepnote_to_be_reexecuted": true,
    "execution_millis": 232,
    "execution_start": 1645976559452,
    "source_hash": "34ef65d5"
   },
   "outputs": [
    {
     "data": {
      "image/png": "[encoded data removed]",
      "text/plain": [
       "<Figure size 432x288 with 1 Axes>"
      ]
     },
     "metadata": {
      "needs_background": "light"
     },
     "output_type": "display_data"
    }
   ],
   "source": [
    "plot_predictions(y_test,predicted_stock_price)"
   ]
  },
  {
   "cell_type": "markdown",
   "id": "26002842",
   "metadata": {
    "cell_id": "5ffb1f59-5dcd-4cf6-8d04-2a711f72db0a",
    "deepnote_cell_type": "markdown",
    "tags": []
   },
   "source": [
    "The results look promising as the model got 6.70 rmse on the test dataset. "
   ]
  },
  {
   "cell_type": "code",
   "execution_count": 17,
   "id": "e4de594e",
   "metadata": {
    "_uuid": "f6f6db0b6e1f17ac63c06ce49856873d98ba5f00",
    "cell_id": "00020-4154d2fb-ac6d-4d1a-9a55-5380b2eeb786",
    "deepnote_cell_type": "code",
    "deepnote_to_be_reexecuted": true,
    "execution_millis": 3,
    "execution_start": 1645976559687,
    "source_hash": "99df16a4"
   },
   "outputs": [
    {
     "name": "stdout",
     "output_type": "stream",
     "text": [
      "The root mean squared error is 6.70.\n"
     ]
    }
   ],
   "source": [
    "return_rmse(y_test,predicted_stock_price)"
   ]
  },
  {
   "cell_type": "markdown",
   "id": "c71db154-554c-42e5-a104-941458d2139c",
   "metadata": {},
   "source": [
    "### Saving Model"
   ]
  },
  {
   "cell_type": "code",
   "execution_count": 18,
   "id": "aec96c64-29f3-4be5-8ee2-111f8cc400c3",
   "metadata": {},
   "outputs": [
    {
     "name": "stderr",
     "output_type": "stream",
     "text": [
      "2022-04-05 07:51:03.494268: W tensorflow/python/util/util.cc:348] Sets are not currently considered sequences, but this may change in the future, so consider avoiding using them.\n",
      "WARNING:absl:Found untraced functions such as lstm_cell_layer_call_and_return_conditional_losses, lstm_cell_layer_call_fn, lstm_cell_layer_call_fn, lstm_cell_layer_call_and_return_conditional_losses, lstm_cell_layer_call_and_return_conditional_losses while saving (showing 5 of 5). These functions will not be directly callable after loading.\n",
      "WARNING:absl:Found untraced functions such as lstm_cell_layer_call_and_return_conditional_losses, lstm_cell_layer_call_fn, lstm_cell_layer_call_fn, lstm_cell_layer_call_and_return_conditional_losses, lstm_cell_layer_call_and_return_conditional_losses while saving (showing 5 of 5). These functions will not be directly callable after loading.\n"
     ]
    },
    {
     "name": "stdout",
     "output_type": "stream",
     "text": [
      "INFO:tensorflow:Assets written to: model/LSTM/assets\n"
     ]
    },
    {
     "name": "stderr",
     "output_type": "stream",
     "text": [
      "INFO:tensorflow:Assets written to: model/LSTM/assets\n"
     ]
    }
   ],
   "source": [
    "model_lstm.save(\"model/LSTM\")"
   ]
  },
  {
   "cell_type": "markdown",
   "id": "2153ff9a",
   "metadata": {
    "cell_id": "c40fbc51-0dc0-405c-8466-35fe45c3e809",
    "deepnote_cell_type": "text-cell-h2",
    "is_collapsed": false,
    "tags": []
   },
   "source": [
    "## GRU Model "
   ]
  },
  {
   "cell_type": "markdown",
   "id": "2719a228",
   "metadata": {
    "cell_id": "9aef463a-bf61-4f50-888f-2ab05272951b",
    "deepnote_cell_type": "markdown",
    "tags": []
   },
   "source": [
    "The GRU architecture with similar structure and hyperparameters."
   ]
  },
  {
   "cell_type": "code",
   "execution_count": 19,
   "id": "e3349346",
   "metadata": {
    "_uuid": "e9b616c5112d707d16cc4b277007e286cffd58f6",
    "cell_id": "00022-c4338574-f242-4630-ba12-46ee05fe502c",
    "deepnote_cell_type": "code",
    "deepnote_to_be_reexecuted": true,
    "execution_millis": 255,
    "execution_start": 1645976559736,
    "source_hash": "7773d24b"
   },
   "outputs": [
    {
     "name": "stdout",
     "output_type": "stream",
     "text": [
      "Model: \"sequential_1\"\n",
      "_________________________________________________________________\n",
      "Layer (type)                 Output Shape              Param #   \n",
      "=================================================================\n",
      "gru (GRU)                    (None, 125)               48000     \n",
      "_________________________________________________________________\n",
      "dense_1 (Dense)              (None, 1)                 126       \n",
      "=================================================================\n",
      "Total params: 48,126\n",
      "Trainable params: 48,126\n",
      "Non-trainable params: 0\n",
      "_________________________________________________________________\n"
     ]
    }
   ],
   "source": [
    "model_gru = Sequential()\n",
    "model_gru.add(GRU(units=125, activation=\"tanh\", input_shape=(n_steps, features)))\n",
    "model_gru.add(Dense(units=1))\n",
    "# Compiling the model\n",
    "model_gru.compile(optimizer=\"RMSprop\", loss=\"mse\")\n",
    "\n",
    "model_gru.summary()\n"
   ]
  },
  {
   "cell_type": "code",
   "execution_count": 20,
   "id": "9dbc8711",
   "metadata": {
    "cell_id": "45a788a7-eb37-4ab0-99bb-84b10a42b1f1",
    "deepnote_cell_type": "code",
    "deepnote_to_be_reexecuted": true,
    "execution_millis": 74728,
    "execution_start": 1645976559986,
    "source_hash": "cdf5cd03",
    "tags": []
   },
   "outputs": [
    {
     "name": "stdout",
     "output_type": "stream",
     "text": [
      "Epoch 1/50\n",
      "38/38 [==============================] - 4s 70ms/step - loss: 0.0582\n",
      "Epoch 2/50\n",
      "38/38 [==============================] - 2s 65ms/step - loss: 0.0044\n",
      "Epoch 3/50\n",
      "38/38 [==============================] - 2s 67ms/step - loss: 0.0020\n",
      "Epoch 4/50\n",
      "38/38 [==============================] - 2s 65ms/step - loss: 0.0013\n",
      "Epoch 5/50\n",
      "38/38 [==============================] - 2s 65ms/step - loss: 9.4554e-04\n",
      "Epoch 6/50\n",
      "38/38 [==============================] - 2s 66ms/step - loss: 9.9860e-04\n",
      "Epoch 7/50\n",
      "38/38 [==============================] - 2s 65ms/step - loss: 6.1373e-04\n",
      "Epoch 8/50\n",
      "38/38 [==============================] - 2s 65ms/step - loss: 7.9382e-04\n",
      "Epoch 9/50\n",
      "38/38 [==============================] - 2s 65ms/step - loss: 7.8859e-04\n",
      "Epoch 10/50\n",
      "38/38 [==============================] - 2s 62ms/step - loss: 8.1784e-04\n",
      "Epoch 11/50\n",
      "38/38 [==============================] - 2s 62ms/step - loss: 5.6758e-04\n",
      "Epoch 12/50\n",
      "38/38 [==============================] - 2s 62ms/step - loss: 5.9090e-04\n",
      "Epoch 13/50\n",
      "38/38 [==============================] - 2s 63ms/step - loss: 6.3029e-04\n",
      "Epoch 14/50\n",
      "38/38 [==============================] - 2s 63ms/step - loss: 5.8464e-04\n",
      "Epoch 15/50\n",
      "38/38 [==============================] - 3s 67ms/step - loss: 5.1233e-04\n",
      "Epoch 16/50\n",
      "38/38 [==============================] - 2s 62ms/step - loss: 5.7559e-04\n",
      "Epoch 17/50\n",
      "38/38 [==============================] - 2s 63ms/step - loss: 6.6695e-04\n",
      "Epoch 18/50\n",
      "38/38 [==============================] - 2s 62ms/step - loss: 4.2827e-04\n",
      "Epoch 19/50\n",
      "38/38 [==============================] - 2s 60ms/step - loss: 4.6419e-04\n",
      "Epoch 20/50\n",
      "38/38 [==============================] - 2s 60ms/step - loss: 5.1630e-04\n",
      "Epoch 21/50\n",
      "38/38 [==============================] - 2s 62ms/step - loss: 5.7459e-04\n",
      "Epoch 22/50\n",
      "38/38 [==============================] - 2s 60ms/step - loss: 4.3644e-04\n",
      "Epoch 23/50\n",
      "38/38 [==============================] - 2s 62ms/step - loss: 3.8774e-04\n",
      "Epoch 24/50\n",
      "38/38 [==============================] - 2s 62ms/step - loss: 5.0837e-04\n",
      "Epoch 25/50\n",
      "38/38 [==============================] - 2s 60ms/step - loss: 4.5595e-04\n",
      "Epoch 26/50\n",
      "38/38 [==============================] - 2s 62ms/step - loss: 3.5124e-04\n",
      "Epoch 27/50\n",
      "38/38 [==============================] - 2s 60ms/step - loss: 3.8810e-04\n",
      "Epoch 28/50\n",
      "38/38 [==============================] - 2s 62ms/step - loss: 4.8652e-04\n",
      "Epoch 29/50\n",
      "38/38 [==============================] - 2s 61ms/step - loss: 3.8321e-04\n",
      "Epoch 30/50\n",
      "38/38 [==============================] - 2s 62ms/step - loss: 4.4386e-04\n",
      "Epoch 31/50\n",
      "38/38 [==============================] - 2s 61ms/step - loss: 2.8583e-04\n",
      "Epoch 32/50\n",
      "38/38 [==============================] - 2s 62ms/step - loss: 3.2623e-04\n",
      "Epoch 33/50\n",
      "38/38 [==============================] - 2s 60ms/step - loss: 4.3743e-04\n",
      "Epoch 34/50\n",
      "38/38 [==============================] - 2s 60ms/step - loss: 3.6761e-04\n",
      "Epoch 35/50\n",
      "38/38 [==============================] - 2s 60ms/step - loss: 3.2427e-04\n",
      "Epoch 36/50\n",
      "38/38 [==============================] - 2s 60ms/step - loss: 4.1345e-04\n",
      "Epoch 37/50\n",
      "38/38 [==============================] - 2s 61ms/step - loss: 3.7036e-04\n",
      "Epoch 38/50\n",
      "38/38 [==============================] - 2s 62ms/step - loss: 4.1585e-04\n",
      "Epoch 39/50\n",
      "38/38 [==============================] - 2s 60ms/step - loss: 4.5516e-04\n",
      "Epoch 40/50\n",
      "38/38 [==============================] - 2s 59ms/step - loss: 3.4485e-04\n",
      "Epoch 41/50\n",
      "38/38 [==============================] - 2s 59ms/step - loss: 3.1372e-04\n",
      "Epoch 42/50\n",
      "38/38 [==============================] - 2s 58ms/step - loss: 3.2389e-04\n",
      "Epoch 43/50\n",
      "38/38 [==============================] - 2s 59ms/step - loss: 4.4353e-04\n",
      "Epoch 44/50\n",
      "38/38 [==============================] - 2s 58ms/step - loss: 2.3637e-04\n",
      "Epoch 45/50\n",
      "38/38 [==============================] - 2s 59ms/step - loss: 3.6086e-04\n",
      "Epoch 46/50\n",
      "38/38 [==============================] - 2s 57ms/step - loss: 3.4857e-04\n",
      "Epoch 47/50\n",
      "38/38 [==============================] - 2s 58ms/step - loss: 4.2535e-04\n",
      "Epoch 48/50\n",
      "38/38 [==============================] - 2s 58ms/step - loss: 2.7045e-04\n",
      "Epoch 49/50\n",
      "38/38 [==============================] - 2s 59ms/step - loss: 4.2007e-04\n",
      "Epoch 50/50\n",
      "38/38 [==============================] - 2s 59ms/step - loss: 2.7047e-04\n"
     ]
    },
    {
     "data": {
      "text/plain": [
       "<tensorflow.python.keras.callbacks.History at 0x7ff2c843d550>"
      ]
     },
     "execution_count": 20,
     "metadata": {},
     "output_type": "execute_result"
    }
   ],
   "source": [
    "model_gru.fit(X_train, y_train, epochs=50, batch_size=32)\n"
   ]
  },
  {
   "cell_type": "markdown",
   "id": "8440b873",
   "metadata": {
    "cell_id": "77cb6fae-2325-4c5d-86e4-c71443164810",
    "deepnote_cell_type": "text-cell-h2",
    "is_collapsed": false,
    "tags": []
   },
   "source": [
    "## Results"
   ]
  },
  {
   "cell_type": "code",
   "execution_count": 21,
   "id": "2ea07978",
   "metadata": {
    "_uuid": "f20ca021ea3ce05f6c6a98db93775f1b2c9c022c",
    "cell_id": "00024-2a9a5e6c-6353-40ca-8095-aa11f1ac4ae7",
    "deepnote_cell_type": "code",
    "deepnote_to_be_reexecuted": true,
    "execution_millis": 395,
    "execution_start": 1645976634713,
    "source_hash": "10bfe45d"
   },
   "outputs": [],
   "source": [
    "GRU_predicted_stock_price = model_gru.predict(X_test)\n",
    "GRU_predicted_stock_price = sc.inverse_transform(GRU_predicted_stock_price)"
   ]
  },
  {
   "cell_type": "markdown",
   "id": "b4490dda",
   "metadata": {
    "cell_id": "bac66f98-0718-4d86-b278-969bb737e1be",
    "deepnote_cell_type": "markdown",
    "tags": []
   },
   "source": [
    "The predicted line chart almost fits the actual values. "
   ]
  },
  {
   "cell_type": "code",
   "execution_count": 22,
   "id": "1d950a04",
   "metadata": {
    "_uuid": "da8e9fa28510aa03e7dd06d5070d7b16e05ebb6e",
    "cell_id": "00025-7689e2fc-53a2-4e95-b049-e7fe7927031e",
    "deepnote_cell_type": "code",
    "deepnote_to_be_reexecuted": true,
    "execution_millis": 254,
    "execution_start": 1645976635120,
    "source_hash": "c3eed85f"
   },
   "outputs": [
    {
     "data": {
      "image/png": "[encoded data removed]",
      "text/plain": [
       "<Figure size 432x288 with 1 Axes>"
      ]
     },
     "metadata": {
      "needs_background": "light"
     },
     "output_type": "display_data"
    }
   ],
   "source": [
    "plot_predictions(y_test, GRU_predicted_stock_price)"
   ]
  },
  {
   "cell_type": "markdown",
   "id": "250816e3",
   "metadata": {
    "cell_id": "0620afa8-999b-4ef2-b252-9dd54ed103e8",
    "deepnote_cell_type": "markdown",
    "tags": []
   },
   "source": [
    "GRU model got 5.50 rmse on the test dataset, which is an improvement from the LSTM model.  "
   ]
  },
  {
   "cell_type": "code",
   "execution_count": 23,
   "id": "4bd0da9d",
   "metadata": {
    "_uuid": "23aec5ab1a717e3458c8d5cae68db0e7add091ae",
    "cell_id": "00026-a5e07f28-bcea-4325-b23e-71e703b675b3",
    "deepnote_cell_type": "code",
    "deepnote_to_be_reexecuted": true,
    "execution_millis": 4,
    "execution_start": 1645976635377,
    "source_hash": "31519063",
    "tags": []
   },
   "outputs": [
    {
     "name": "stdout",
     "output_type": "stream",
     "text": [
      "The root mean squared error is 5.50.\n"
     ]
    }
   ],
   "source": [
    "return_rmse(y_test,GRU_predicted_stock_price)"
   ]
  },
  {
   "cell_type": "markdown",
   "id": "9a270b4c-9bc4-4be5-82c9-2e607ab41765",
   "metadata": {},
   "source": [
    "### Save Model"
   ]
  },
  {
   "cell_type": "code",
   "execution_count": 24,
   "id": "9636301b-3014-4ca7-a876-9c6374729ede",
   "metadata": {},
   "outputs": [
    {
     "name": "stderr",
     "output_type": "stream",
     "text": [
      "WARNING:absl:Found untraced functions such as gru_cell_layer_call_and_return_conditional_losses, gru_cell_layer_call_fn, gru_cell_layer_call_fn, gru_cell_layer_call_and_return_conditional_losses, gru_cell_layer_call_and_return_conditional_losses while saving (showing 5 of 5). These functions will not be directly callable after loading.\n",
      "WARNING:absl:Found untraced functions such as gru_cell_layer_call_and_return_conditional_losses, gru_cell_layer_call_fn, gru_cell_layer_call_fn, gru_cell_layer_call_and_return_conditional_losses, gru_cell_layer_call_and_return_conditional_losses while saving (showing 5 of 5). These functions will not be directly callable after loading.\n"
     ]
    },
    {
     "name": "stdout",
     "output_type": "stream",
     "text": [
      "INFO:tensorflow:Assets written to: model/GRU/assets\n"
     ]
    },
    {
     "name": "stderr",
     "output_type": "stream",
     "text": [
      "INFO:tensorflow:Assets written to: model/GRU/assets\n"
     ]
    }
   ],
   "source": [
    "model_gru.save('model/GRU')"
   ]
  },
  {
   "cell_type": "code",
   "execution_count": 29,
   "id": "b792351b-b0de-4df0-9050-2e042142acc4",
   "metadata": {},
   "outputs": [
    {
     "name": "stdout",
     "output_type": "stream",
     "text": [
      "updating: RNN.png (deflated 8%)\n",
      "updating: LSTM_GRU.ipynb (deflated 35%)\n",
      "  adding: data/ (stored 0%)\n",
      "  adding: data/Mastercard_stock_history.csv (deflated 60%)\n",
      "  adding: data/Mastercard_stock_info.csv (deflated 53%)\n",
      "  adding: data/NVidia_stock_history.csv (deflated 61%)\n",
      "  adding: data/NVidia_stock_info.csv (deflated 51%)\n",
      "  adding: model/ (stored 0%)\n",
      "  adding: model/LSTM/ (stored 0%)\n",
      "  adding: model/LSTM/variables/ (stored 0%)\n",
      "  adding: model/LSTM/variables/variables.data-00000-of-00001 (deflated 6%)\n",
      "  adding: model/LSTM/variables/variables.index (deflated 56%)\n",
      "  adding: model/LSTM/saved_model.pb (deflated 90%)\n",
      "  adding: model/LSTM/assets/ (stored 0%)\n",
      "  adding: model/GRU/ (stored 0%)\n",
      "  adding: model/GRU/variables/ (stored 0%)\n",
      "  adding: model/GRU/variables/variables.data-00000-of-00001 (deflated 6%)\n",
      "  adding: model/GRU/variables/variables.index (deflated 57%)\n",
      "  adding: model/GRU/saved_model.pb (deflated 90%)\n",
      "  adding: model/GRU/assets/ (stored 0%)\n"
     ]
    }
   ],
   "source": [
    "# !zip -r project.zip \\data \\model RNN.png LSTM_GRU.ipynb"
   ]
  }
 ],
 "metadata": {
  "deepnote": {},
  "deepnote_execution_queue": [
   {
    "cellId": "00008-ed48002c-9ac1-4f34-89f7-13fc8b85a344",
    "msgId": "5a64ec93-56c5-4aaf-a6ed-60c54e1dea75",
    "sessionId": "80517342-fc9e-4dc1-a27e-407bb8a08651"
   },
   {
    "cellId": "00010-623ed6c6-5fdf-4b98-8711-185293d0e1dd",
    "msgId": "2dc852d0-5411-462b-a62a-a2cf3f8606fb",
    "sessionId": "80517342-fc9e-4dc1-a27e-407bb8a08651"
   },
   {
    "cellId": "c890e499-584c-496f-aa54-75966790e461",
    "msgId": "c71eee19-e32a-4d79-be66-8608fba50a7d",
    "sessionId": "80517342-fc9e-4dc1-a27e-407bb8a08651"
   },
   {
    "cellId": "38d8177a-e779-4f49-b64b-3db03ddc3438",
    "msgId": "2fe179ca-f2ad-4312-b1e4-e9fa0bb1349f",
    "sessionId": "80517342-fc9e-4dc1-a27e-407bb8a08651"
   },
   {
    "cellId": "1f624870-d9fb-46a5-9c6f-9dc67cb7b41e",
    "msgId": "3870ba52-29f6-4cb3-904a-4f3088e63658",
    "sessionId": "80517342-fc9e-4dc1-a27e-407bb8a08651"
   },
   {
    "cellId": "875f3ddc-bd51-4a78-ab87-03cbf6f82057",
    "msgId": "2d5bd44e-d522-4091-b2a5-c8b498d3a69f",
    "sessionId": "80517342-fc9e-4dc1-a27e-407bb8a08651"
   },
   {
    "cellId": "00013-7d7d0db9-187d-4837-93a8-89ce21ecd9aa",
    "msgId": "a53d5aef-b0d4-4cd7-b2e1-122d038e2b9b",
    "sessionId": "80517342-fc9e-4dc1-a27e-407bb8a08651"
   },
   {
    "cellId": "24397a35-1b35-4637-ab03-a94780a1e060",
    "msgId": "2bb34c1b-0702-41a4-9b9c-2c0190f95edf",
    "sessionId": "80517342-fc9e-4dc1-a27e-407bb8a08651"
   },
   {
    "cellId": "00015-cd7efe2b-9718-453a-88ed-5e25fae13424",
    "msgId": "d84d603e-8476-445b-a4e0-cf1b6939255a",
    "sessionId": "80517342-fc9e-4dc1-a27e-407bb8a08651"
   },
   {
    "cellId": "00016-940fa9e1-0b9d-48fd-b805-b637488646ec",
    "msgId": "745e118a-453d-4019-b96e-e1e86fb9184b",
    "sessionId": "80517342-fc9e-4dc1-a27e-407bb8a08651"
   },
   {
    "cellId": "f0aeff3e-ac5a-452a-bbae-6b5e5d51b72e",
    "msgId": "392372ca-db70-489f-b3e8-b5d00bae229e",
    "sessionId": "80517342-fc9e-4dc1-a27e-407bb8a08651"
   },
   {
    "cellId": "00017-b05c090a-6814-4346-87ec-5f9e3650e61e",
    "msgId": "c17afe97-5460-4b24-b54e-9d83a0abfbe0",
    "sessionId": "80517342-fc9e-4dc1-a27e-407bb8a08651"
   },
   {
    "cellId": "00018-1d3c05c3-293c-41c1-a9c0-0525169da698",
    "msgId": "f6f7afac-1690-481f-bd4d-0cdba7f527b0",
    "sessionId": "80517342-fc9e-4dc1-a27e-407bb8a08651"
   },
   {
    "cellId": "13dedf24-bcb5-4bee-8db7-fbd539e82b8b",
    "msgId": "c6403730-95bc-4273-8958-21181c768a3c",
    "sessionId": "80517342-fc9e-4dc1-a27e-407bb8a08651"
   },
   {
    "cellId": "00019-519fb7e5-ac53-46e4-854c-7df1232bc143",
    "msgId": "588cd847-0450-402e-8429-5d4df8759e91",
    "sessionId": "80517342-fc9e-4dc1-a27e-407bb8a08651"
   },
   {
    "cellId": "00020-4154d2fb-ac6d-4d1a-9a55-5380b2eeb786",
    "msgId": "201c40f3-dbb7-49d6-b8fd-0ddfea4073e8",
    "sessionId": "80517342-fc9e-4dc1-a27e-407bb8a08651"
   },
   {
    "cellId": "00022-c4338574-f242-4630-ba12-46ee05fe502c",
    "msgId": "6367c75d-3c52-42ab-9a0f-dc577be6c44c",
    "sessionId": "80517342-fc9e-4dc1-a27e-407bb8a08651"
   },
   {
    "cellId": "45a788a7-eb37-4ab0-99bb-84b10a42b1f1",
    "msgId": "6d26f4a9-15d0-450f-9203-ca0d0a570482",
    "sessionId": "80517342-fc9e-4dc1-a27e-407bb8a08651"
   },
   {
    "cellId": "00024-2a9a5e6c-6353-40ca-8095-aa11f1ac4ae7",
    "msgId": "90391e65-e09d-4a6d-9a18-ff902e0dcc92",
    "sessionId": "80517342-fc9e-4dc1-a27e-407bb8a08651"
   },
   {
    "cellId": "00025-7689e2fc-53a2-4e95-b049-e7fe7927031e",
    "msgId": "921bc39d-8f8c-4f05-b9da-b4727642a82d",
    "sessionId": "80517342-fc9e-4dc1-a27e-407bb8a08651"
   },
   {
    "cellId": "00026-a5e07f28-bcea-4325-b23e-71e703b675b3",
    "msgId": "d7728fb0-32f4-4d53-9dea-69aae14d03ec",
    "sessionId": "80517342-fc9e-4dc1-a27e-407bb8a08651"
   }
  ],
  "deepnote_notebook_id": "6146b4e7-ebe6-4839-9bd6-cf37661a0d18",
  "kernelspec": {
   "display_name": "Python 3 (ipykernel)",
   "language": "python",
   "name": "python3"
  },
  "language_info": {
   "codemirror_mode": {
    "name": "ipython",
    "version": 3
   },
   "file_extension": ".py",
   "mimetype": "text/x-python",
   "name": "python",
   "nbconvert_exporter": "python",
   "pygments_lexer": "ipython3",
   "version": "3.8.10"
  }
 },
 "nbformat": 4,
 "nbformat_minor": 5
}
